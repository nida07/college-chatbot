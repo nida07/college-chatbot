{
  "cells": [
    {
      "cell_type": "markdown",
      "metadata": {
        "id": "view-in-github",
        "colab_type": "text"
      },
      "source": [
        "<a href=\"https://colab.research.google.com/github/nida07/college-chatbot/blob/master/Untitled7.ipynb\" target=\"_parent\"><img src=\"https://colab.research.google.com/assets/colab-badge.svg\" alt=\"Open In Colab\"/></a>"
      ]
    },
    {
      "cell_type": "code",
      "execution_count": null,
      "metadata": {
        "colab": {
          "base_uri": "https://localhost:8080/"
        },
        "id": "WzmrYvyYpE9P",
        "outputId": "9b4f3773-0712-433b-aa8d-68fe20ac6224"
      },
      "outputs": [
        {
          "name": "stderr",
          "output_type": "stream",
          "text": [
            "[nltk_data] Downloading package punkt to /root/nltk_data...\n",
            "[nltk_data]   Unzipping tokenizers/punkt.zip.\n"
          ]
        },
        {
          "data": {
            "text/plain": [
              "True"
            ]
          },
          "execution_count": 1,
          "metadata": {},
          "output_type": "execute_result"
        }
      ],
      "source": [
        "import nltk\n",
        "nltk.download('punkt')"
      ]
    },
    {
      "cell_type": "code",
      "source": [],
      "metadata": {
        "id": "-P4nPAs_Qp7i"
      },
      "execution_count": 2,
      "outputs": []
    },
    {
      "cell_type": "code",
      "execution_count": null,
      "metadata": {
        "id": "v4tW6z1qpJPg"
      },
      "outputs": [],
      "source": [
        "import nltk\n",
        "from nltk.stem import WordNetLemmatizer\n",
        "lemmatizer = WordNetLemmatizer()\n",
        "import json\n",
        "import pickle\n",
        "import warnings\n",
        "warnings.filterwarnings('ignore')"
      ]
    },
    {
      "cell_type": "code",
      "execution_count": null,
      "metadata": {
        "id": "h8Wgv1CepNP-"
      },
      "outputs": [],
      "source": [
        "import numpy as np\n",
        "import tensorflow as tf\n",
        "from keras.models import Sequential\n",
        "from keras.layers import Dense, Activation, Dropout\n",
        "from tensorflow.keras.optimizers import SGD\n",
        "import random"
      ]
    },
    {
      "cell_type": "code",
      "execution_count": null,
      "metadata": {
        "id": "pnW9a0FNpU4b"
      },
      "outputs": [],
      "source": [
        "words=[]\n",
        "classes = []\n",
        "documents = []\n",
        "ignore_words = ['?', '!']\n",
        "data_file = open('/content/intents.json').read() # read json file\n",
        "intents = json.loads(data_file) # load json file"
      ]
    },
    {
      "cell_type": "code",
      "execution_count": null,
      "metadata": {
        "id": "EBYhh9VwqGVh"
      },
      "outputs": [],
      "source": [
        "for intent in intents['intents']:\n",
        "    for pattern in intent['patterns']:\n",
        "        #tokenize each word\n",
        "        w = nltk.word_tokenize(pattern)\n",
        "        words.extend(w)# add each elements into list\n",
        "        #combination between patterns and intents\n",
        "        documents.append((w, intent['tag']))#add single element into end of list\n",
        "        # add to tag in our classes list\n",
        "        if intent['tag'] not in classes:\n",
        "            classes.append(intent['tag'])"
      ]
    },
    {
      "cell_type": "code",
      "execution_count": null,
      "metadata": {
        "colab": {
          "base_uri": "https://localhost:8080/"
        },
        "id": "JyyoRaxOs-4k",
        "outputId": "f2630c64-4b69-436e-9770-da2801cea3de"
      },
      "outputs": [
        {
          "name": "stderr",
          "output_type": "stream",
          "text": [
            "[nltk_data] Downloading package wordnet to /root/nltk_data...\n",
            "[nltk_data] Downloading package omw-1.4 to /root/nltk_data...\n"
          ]
        },
        {
          "data": {
            "text/plain": [
              "True"
            ]
          },
          "execution_count": 6,
          "metadata": {},
          "output_type": "execute_result"
        }
      ],
      "source": [
        "nltk.download('wordnet')\n",
        "nltk.download('omw-1.4')"
      ]
    },
    {
      "cell_type": "code",
      "execution_count": null,
      "metadata": {
        "colab": {
          "base_uri": "https://localhost:8080/"
        },
        "id": "uXQzwFMWtIyL",
        "outputId": "7594b838-dd63-4116-d6a3-5c2bca977670"
      },
      "outputs": [
        {
          "name": "stdout",
          "output_type": "stream",
          "text": [
            "405 documents\n",
            " [(['Hi'], 'greeting'), (['How', 'are', 'you', '?'], 'greeting'), (['Is', 'anyone', 'there', '?'], 'greeting'), (['Hello'], 'greeting'), (['Good', 'day'], 'greeting'), (['What', \"'s\", 'up'], 'greeting'), (['how', 'are', 'ya'], 'greeting'), (['heyy'], 'greeting'), (['whatsup'], 'greeting'), (['?', '?', '?', '?', '?', '?', '?', '?'], 'greeting'), (['cya'], 'goodbye'), (['see', 'you'], 'goodbye'), (['bye', 'bye'], 'goodbye'), (['See', 'you', 'later'], 'goodbye'), (['Goodbye'], 'goodbye'), (['I', 'am', 'Leaving'], 'goodbye'), (['Bye'], 'goodbye'), (['Have', 'a', 'Good', 'day'], 'goodbye'), (['talk', 'to', 'you', 'later'], 'goodbye'), (['ttyl'], 'goodbye'), (['i', 'got', 'to', 'go'], 'goodbye'), (['gtg'], 'goodbye'), (['what', 'is', 'the', 'name', 'of', 'your', 'developers'], 'creator'), (['what', 'is', 'the', 'name', 'of', 'your', 'creators'], 'creator'), (['what', 'is', 'the', 'name', 'of', 'the', 'developers'], 'creator'), (['what', 'is', 'the', 'name', 'of', 'the', 'creators'], 'creator'), (['who', 'created', 'you'], 'creator'), (['your', 'developers'], 'creator'), (['your', 'creators'], 'creator'), (['who', 'are', 'your', 'developers'], 'creator'), (['developers'], 'creator'), (['you', 'are', 'made', 'by'], 'creator'), (['you', 'are', 'made', 'by', 'whom'], 'creator'), (['who', 'created', 'you'], 'creator'), (['who', 'create', 'you'], 'creator'), (['creators'], 'creator'), (['who', 'made', 'you'], 'creator'), (['who', 'designed', 'you'], 'creator'), (['name'], 'name'), (['your', 'name'], 'name'), (['do', 'you', 'have', 'a', 'name'], 'name'), (['what', 'are', 'you', 'called'], 'name'), (['what', 'is', 'your', 'name'], 'name'), (['what', 'should', 'I', 'call', 'you'], 'name'), (['whats', 'your', 'name', '?'], 'name'), (['what', 'are', 'you'], 'name'), (['who', 'are', 'you'], 'name'), (['who', 'is', 'this'], 'name'), (['what', 'am', 'i', 'chatting', 'to'], 'name'), (['who', 'am', 'i', 'taking', 'to'], 'name'), (['what', 'are', 'you'], 'name'), (['timing', 'of', 'college'], 'hours'), (['what', 'is', 'college', 'timing'], 'hours'), (['working', 'days'], 'hours'), (['when', 'are', 'you', 'guys', 'open'], 'hours'), (['what', 'are', 'your', 'hours'], 'hours'), (['hours', 'of', 'operation'], 'hours'), (['when', 'is', 'the', 'college', 'open'], 'hours'), (['college', 'timing'], 'hours'), (['what', 'about', 'college', 'timing'], 'hours'), (['is', 'college', 'open', 'on', 'saturday'], 'hours'), (['tell', 'something', 'about', 'college', 'timing'], 'hours'), (['what', 'is', 'the', 'college', 'hours'], 'hours'), (['when', 'should', 'i', 'come', 'to', 'college'], 'hours'), (['when', 'should', 'i', 'attend', 'college'], 'hours'), (['what', 'is', 'my', 'college', 'time'], 'hours'), (['college', 'timing'], 'hours'), (['timing', 'college'], 'hours'), (['more', 'info'], 'number'), (['contact', 'info'], 'number'), (['how', 'to', 'contact', 'college'], 'number'), (['college', 'telephone', 'number'], 'number'), (['college', 'number'], 'number'), (['What', 'is', 'your', 'contact', 'no'], 'number'), (['Contact', 'number', '?'], 'number'), (['how', 'to', 'call', 'you'], 'number'), (['College', 'phone', 'no', '?'], 'number'), (['how', 'can', 'i', 'contact', 'you'], 'number'), (['Can', 'i', 'get', 'your', 'phone', 'number'], 'number'), (['how', 'can', 'i', 'call', 'you'], 'number'), (['phone', 'number'], 'number'), (['phone', 'no'], 'number'), (['call'], 'number'), (['list', 'of', 'courses'], 'course'), (['list', 'of', 'courses', 'offered'], 'course'), (['list', 'of', 'courses', 'offered', 'in'], 'course'), (['what', 'are', 'the', 'courses', 'offered', 'in', 'your', 'college', '?'], 'course'), (['courses', '?'], 'course'), (['courses', 'offered'], 'course'), (['courses', 'offered', 'in', '(', 'your', 'univrsity', '(', 'UNI', ')', 'name', ')'], 'course'), (['courses', 'you', 'offer'], 'course'), (['branches', '?'], 'course'), (['courses', 'available', 'at', 'UNI', '?'], 'course'), (['branches', 'available', 'at', 'your', 'college', '?'], 'course'), (['what', 'are', 'the', 'courses', 'in', 'UNI', '?'], 'course'), (['what', 'are', 'branches', 'in', 'UNI', '?'], 'course'), (['what', 'are', 'courses', 'in', 'UNI', '?'], 'course'), (['branches', 'available', 'in', 'UNI', '?'], 'course'), (['can', 'you', 'tell', 'me', 'the', 'courses', 'available', 'in', 'UNI', '?'], 'course'), (['can', 'you', 'tell', 'me', 'the', 'branches', 'available', 'in', 'UNI', '?'], 'course'), (['computer', 'engineering', '?'], 'course'), (['computer'], 'course'), (['Computer', 'engineering', '?'], 'course'), (['it'], 'course'), (['IT'], 'course'), (['Information', 'Technology'], 'course'), (['AI/Ml'], 'course'), (['Mechanical', 'engineering'], 'course'), (['Chemical', 'engineering'], 'course'), (['Civil', 'engineering'], 'course'), (['information', 'about', 'fee'], 'fees'), (['information', 'on', 'fee'], 'fees'), (['tell', 'me', 'the', 'fee'], 'fees'), (['college', 'fee'], 'fees'), (['fee', 'per', 'semester'], 'fees'), (['what', 'is', 'the', 'fee', 'of', 'each', 'semester'], 'fees'), (['what', 'is', 'the', 'fees', 'of', 'each', 'year'], 'fees'), (['what', 'is', 'fee'], 'fees'), (['what', 'is', 'the', 'fees'], 'fees'), (['how', 'much', 'is', 'the', 'fees'], 'fees'), (['fees', 'for', 'first', 'year'], 'fees'), (['fees'], 'fees'), (['about', 'the', 'fees'], 'fees'), (['tell', 'me', 'something', 'about', 'the', 'fees'], 'fees'), (['What', 'is', 'the', 'fees', 'of', 'hostel'], 'fees'), (['how', 'much', 'is', 'the', 'fees'], 'fees'), (['hostel', 'fees'], 'fees'), (['fees', 'for', 'AC', 'room'], 'fees'), (['fees', 'for', 'non-AC', 'room'], 'fees'), (['fees', 'for', 'Ac', 'room', 'for', 'girls'], 'fees'), (['fees', 'for', 'non-Ac', 'room', 'for', 'girls'], 'fees'), (['fees', 'for', 'Ac', 'room', 'for', 'boys'], 'fees'), (['fees', 'for', 'non-Ac', 'room', 'for', 'boys'], 'fees'), (['where', 'is', 'the', 'college', 'located'], 'location'), (['college', 'is', 'located', 'at'], 'location'), (['where', 'is', 'college'], 'location'), (['where', 'is', 'college', 'located'], 'location'), (['address', 'of', 'college'], 'location'), (['how', 'to', 'reach', 'college'], 'location'), (['college', 'location'], 'location'), (['college', 'address'], 'location'), (['wheres', 'the', 'college'], 'location'), (['how', 'can', 'I', 'reach', 'college'], 'location'), (['whats', 'is', 'the', 'college', 'address'], 'location'), (['what', 'is', 'the', 'address', 'of', 'college'], 'location'), (['address'], 'location'), (['location'], 'location'), (['hostel', 'facility'], 'hostel'), (['hostel', 'servive'], 'hostel'), (['hostel', 'location'], 'hostel'), (['hostel', 'address'], 'hostel'), (['hostel', 'facilities'], 'hostel'), (['hostel', 'fees'], 'hostel'), (['Does', 'college', 'provide', 'hostel'], 'hostel'), (['Is', 'there', 'any', 'hostel'], 'hostel'), (['Where', 'is', 'hostel'], 'hostel'), (['do', 'you', 'have', 'hostel'], 'hostel'), (['do', 'you', 'guys', 'have', 'hostel'], 'hostel'), (['hostel'], 'hostel'), (['hostel', 'capacity'], 'hostel'), (['what', 'is', 'the', 'hostel', 'fee'], 'hostel'), (['how', 'to', 'get', 'in', 'hostel'], 'hostel'), (['what', 'is', 'the', 'hostel', 'address'], 'hostel'), (['how', 'far', 'is', 'hostel', 'from', 'college'], 'hostel'), (['hostel', 'college', 'distance'], 'hostel'), (['where', 'is', 'the', 'hostel'], 'hostel'), (['how', 'big', 'is', 'the', 'hostel'], 'hostel'), (['distance', 'between', 'college', 'and', 'hostel'], 'hostel'), (['distance', 'between', 'hostel', 'and', 'college'], 'hostel'), (['events', 'organised'], 'event'), (['list', 'of', 'events'], 'event'), (['list', 'of', 'events', 'organised', 'in', 'college'], 'event'), (['list', 'of', 'events', 'conducted', 'in', 'college'], 'event'), (['What', 'events', 'are', 'conducted', 'in', 'college'], 'event'), (['Are', 'there', 'any', 'event', 'held', 'at', 'college'], 'event'), (['Events', '?'], 'event'), (['functions'], 'event'), (['what', 'are', 'the', 'events'], 'event'), (['tell', 'me', 'about', 'events'], 'event'), (['what', 'about', 'events'], 'event'), (['document', 'to', 'bring'], 'document'), (['documents', 'needed', 'for', 'admision'], 'document'), (['documents', 'needed', 'at', 'the', 'time', 'of', 'admission'], 'document'), (['documents', 'needed', 'during', 'admission'], 'document'), (['documents', 'required', 'for', 'admision'], 'document'), (['documents', 'required', 'at', 'the', 'time', 'of', 'admission'], 'document'), (['documents', 'required', 'during', 'admission'], 'document'), (['What', 'document', 'are', 'required', 'for', 'admission'], 'document'), (['Which', 'document', 'to', 'bring', 'for', 'admission'], 'document'), (['documents'], 'document'), (['what', 'documents', 'do', 'i', 'need'], 'document'), (['what', 'documents', 'do', 'I', 'need', 'for', 'admission'], 'document'), (['documents', 'needed'], 'document'), (['size', 'of', 'campus'], 'floors'), (['building', 'size'], 'floors'), (['How', 'many', 'floors', 'does', 'college', 'have'], 'floors'), (['floors', 'in', 'college'], 'floors'), (['floors', 'in', 'college'], 'floors'), (['how', 'tall', 'is', 'UNI', \"'s\", 'College', 'of', 'Engineering', 'college', 'building'], 'floors'), (['floors'], 'floors'), (['Syllabus', 'for', 'IT'], 'syllabus'), (['what', 'is', 'the', 'Information', 'Technology', 'syllabus'], 'syllabus'), (['syllabus'], 'syllabus'), (['timetable'], 'syllabus'), (['what', 'is', 'IT', 'syllabus'], 'syllabus'), (['syllabus'], 'syllabus'), (['What', 'is', 'next', 'lecture'], 'syllabus'), (['is', 'there', 'any', 'library'], 'library'), (['library', 'facility'], 'library'), (['library', 'facilities'], 'library'), (['do', 'you', 'have', 'library'], 'library'), (['does', 'the', 'college', 'have', 'library', 'facility'], 'library'), (['college', 'library'], 'library'), (['where', 'can', 'i', 'get', 'books'], 'library'), (['book', 'facility'], 'library'), (['Where', 'is', 'library'], 'library'), (['Library'], 'library'), (['Library', 'information'], 'library'), (['Library', 'books', 'information'], 'library'), (['Tell', 'me', 'about', 'library'], 'library'), (['how', 'many', 'libraries'], 'library'), (['how', 'is', 'college', 'infrastructure'], 'infrastructure'), (['infrastructure'], 'infrastructure'), (['college', 'infrastructure'], 'infrastructure'), (['food', 'facilities'], 'canteen'), (['canteen', 'facilities'], 'canteen'), (['canteen', 'facility'], 'canteen'), (['is', 'there', 'any', 'canteen'], 'canteen'), (['Is', 'there', 'a', 'cafetaria', 'in', 'college'], 'canteen'), (['Does', 'college', 'have', 'canteen'], 'canteen'), (['Where', 'is', 'canteen'], 'canteen'), (['where', 'is', 'cafetaria'], 'canteen'), (['canteen'], 'canteen'), (['Food'], 'canteen'), (['Cafetaria'], 'canteen'), (['food', 'menu'], 'menu'), (['food', 'in', 'canteen'], 'menu'), (['Whats', 'there', 'on', 'menu'], 'menu'), (['what', 'is', 'available', 'in', 'college', 'canteen'], 'menu'), (['what', 'foods', 'can', 'we', 'get', 'in', 'college', 'canteen'], 'menu'), (['food', 'variety'], 'menu'), (['What', 'is', 'there', 'to', 'eat', '?'], 'menu'), (['What', 'is', 'college', 'placement'], 'placement'), (['Which', 'companies', 'visit', 'in', 'college'], 'placement'), (['What', 'is', 'average', 'package'], 'placement'), (['companies', 'visit'], 'placement'), (['package'], 'placement'), (['About', 'placement'], 'placement'), (['placement'], 'placement'), (['recruitment'], 'placement'), (['companies'], 'placement'), (['Who', 'is', 'HOD'], 'ithod'), (['Where', 'is', 'HOD'], 'ithod'), (['it', 'hod'], 'ithod'), (['name', 'of', 'it', 'hod'], 'ithod'), (['Who', 'is', 'computer', 'HOD'], 'computerhod'), (['Where', 'is', 'computer', 'HOD'], 'computerhod'), (['computer', 'hod'], 'computerhod'), (['name', 'of', 'computer', 'hod'], 'computerhod'), (['Who', 'is', 'extc', 'HOD'], 'extchod'), (['Where', 'is', 'extc', 'HOD'], 'extchod'), (['extc', 'hod'], 'extchod'), (['name', 'of', 'extc', 'hod'], 'extchod'), (['what', 'is', 'the', 'name', 'of', 'principal'], 'principal'), (['whatv', 'is', 'the', 'principal', 'name'], 'principal'), (['principal', 'name'], 'principal'), (['Who', 'is', 'college', 'principal'], 'principal'), (['Where', 'is', 'principal', \"'s\", 'office'], 'principal'), (['principal'], 'principal'), (['name', 'of', 'principal'], 'principal'), (['exam', 'dates'], 'sem'), (['exam', 'schedule'], 'sem'), (['When', 'is', 'semester', 'exam'], 'sem'), (['Semester', 'exam', 'timetable'], 'sem'), (['sem'], 'sem'), (['semester'], 'sem'), (['exam'], 'sem'), (['when', 'is', 'exam'], 'sem'), (['exam', 'timetable'], 'sem'), (['exam', 'dates'], 'sem'), (['when', 'is', 'semester'], 'sem'), (['what', 'is', 'the', 'process', 'of', 'admission'], 'admission'), (['what', 'is', 'the', 'admission', 'process'], 'admission'), (['How', 'to', 'take', 'admission', 'in', 'your', 'college'], 'admission'), (['What', 'is', 'the', 'process', 'for', 'admission'], 'admission'), (['admission'], 'admission'), (['admission', 'process'], 'admission'), (['scholarship'], 'scholarship'), (['Is', 'scholarship', 'available'], 'scholarship'), (['scholarship', 'engineering'], 'scholarship'), (['scholarship', 'it'], 'scholarship'), (['scholarship', 'ce'], 'scholarship'), (['scholarship', 'mechanical'], 'scholarship'), (['scholarship', 'civil'], 'scholarship'), (['scholarship', 'chemical'], 'scholarship'), (['scholarship', 'for', 'AI/ML'], 'scholarship'), (['available', 'scholarships'], 'scholarship'), (['scholarship', 'for', 'computer', 'engineering'], 'scholarship'), (['scholarship', 'for', 'IT', 'engineering'], 'scholarship'), (['scholarship', 'for', 'mechanical', 'engineering'], 'scholarship'), (['scholarship', 'for', 'civil', 'engineering'], 'scholarship'), (['scholarship', 'for', 'chemical', 'engineering'], 'scholarship'), (['list', 'of', 'scholarship'], 'scholarship'), (['comps', 'scholarship'], 'scholarship'), (['IT', 'scholarship'], 'scholarship'), (['mechanical', 'scholarship'], 'scholarship'), (['civil', 'scholarship'], 'scholarship'), (['chemical', 'scholarship'], 'scholarship'), (['automobile', 'scholarship'], 'scholarship'), (['first', 'year', 'scholarship'], 'scholarship'), (['second', 'year', 'scholarship'], 'scholarship'), (['third', 'year', 'scholarship'], 'scholarship'), (['fourth', 'year', 'scholarship'], 'scholarship'), (['What', 'facilities', 'college', 'provide'], 'facilities'), (['College', 'facility'], 'facilities'), (['What', 'are', 'college', 'facilities'], 'facilities'), (['facilities'], 'facilities'), (['facilities', 'provided'], 'facilities'), (['max', 'number', 'of', 'students'], 'college intake'), (['number', 'of', 'seats', 'per', 'branch'], 'college intake'), (['number', 'of', 'seats', 'in', 'each', 'branch'], 'college intake'), (['maximum', 'number', 'of', 'seats'], 'college intake'), (['maximum', 'students', 'intake'], 'college intake'), (['What', 'is', 'college', 'intake'], 'college intake'), (['how', 'many', 'stundent', 'are', 'taken', 'in', 'each', 'branch'], 'college intake'), (['seat', 'allotment'], 'college intake'), (['seats'], 'college intake'), (['college', 'dress', 'code'], 'uniform'), (['college', 'dresscode'], 'uniform'), (['what', 'is', 'the', 'uniform'], 'uniform'), (['can', 'we', 'wear', 'casuals'], 'uniform'), (['Does', 'college', 'have', 'an', 'uniform'], 'uniform'), (['Is', 'there', 'any', 'uniform'], 'uniform'), (['uniform'], 'uniform'), (['what', 'about', 'uniform'], 'uniform'), (['do', 'we', 'have', 'to', 'wear', 'uniform'], 'uniform'), (['what', 'are', 'the', 'different', 'committe', 'in', 'college'], 'committee'), (['different', 'committee', 'in', 'college'], 'committee'), (['Are', 'there', 'any', 'committee', 'in', 'college'], 'committee'), (['Give', 'me', 'committee', 'details'], 'committee'), (['committee'], 'committee'), (['how', 'many', 'committee', 'are', 'there', 'in', 'college'], 'committee'), (['I', 'love', 'you'], 'random'), (['Will', 'you', 'marry', 'me'], 'random'), (['Do', 'you', 'love', 'me'], 'random'), (['fuck'], 'swear'), (['bitch'], 'swear'), (['shut', 'up'], 'swear'), (['hell'], 'swear'), (['stupid'], 'swear'), (['idiot'], 'swear'), (['dumb', 'ass'], 'swear'), (['asshole'], 'swear'), (['fucker'], 'swear'), (['holidays'], 'vacation'), (['when', 'will', 'semester', 'starts'], 'vacation'), (['when', 'will', 'semester', 'end'], 'vacation'), (['when', 'is', 'the', 'holidays'], 'vacation'), (['list', 'of', 'holidays'], 'vacation'), (['Holiday', 'in', 'these', 'year'], 'vacation'), (['holiday', 'list'], 'vacation'), (['about', 'vacations'], 'vacation'), (['about', 'holidays'], 'vacation'), (['When', 'is', 'vacation'], 'vacation'), (['When', 'is', 'holidays'], 'vacation'), (['how', 'long', 'will', 'be', 'the', 'vacation'], 'vacation'), (['sports', 'and', 'games'], 'sports'), (['give', 'sports', 'details'], 'sports'), (['sports', 'infrastructure'], 'sports'), (['sports', 'facilities'], 'sports'), (['information', 'about', 'sports'], 'sports'), (['Sports', 'activities'], 'sports'), (['please', 'provide', 'sports', 'and', 'games', 'information'], 'sports'), (['okk'], 'salutaion'), (['okie'], 'salutaion'), (['nice', 'work'], 'salutaion'), (['well', 'done'], 'salutaion'), (['good', 'job'], 'salutaion'), (['thanks', 'for', 'the', 'help'], 'salutaion'), (['Thank', 'You'], 'salutaion'), (['its', 'ok'], 'salutaion'), (['Thanks'], 'salutaion'), (['Good', 'work'], 'salutaion'), (['k'], 'salutaion'), (['ok'], 'salutaion'), (['okay'], 'salutaion'), (['what', 'can', 'you', 'do'], 'task'), (['what', 'are', 'the', 'thing', 'you', 'can', 'do'], 'task'), (['things', 'you', 'can', 'do'], 'task'), (['what', 'can', 'u', 'do', 'for', 'me'], 'task'), (['how', 'u', 'can', 'help', 'me'], 'task'), (['why', 'i', 'should', 'use', 'you'], 'task'), (['ragging'], 'ragging'), (['is', 'ragging', 'practice', 'active', 'in', 'college'], 'ragging'), (['does', 'college', 'have', 'any', 'antiragging', 'facility'], 'ragging'), (['is', 'there', 'any', 'ragging', 'cases'], 'ragging'), (['is', 'ragging', 'done', 'here'], 'ragging'), (['ragging', 'against'], 'ragging'), (['antiragging', 'facility'], 'ragging'), (['ragging', 'juniors'], 'ragging'), (['ragging', 'history'], 'ragging'), (['ragging', 'incidents'], 'ragging'), (['hod'], 'hod'), (['hod', 'name'], 'hod'), (['who', 'is', 'the', 'hod'], 'hod')] \n",
            "\n",
            "38 classes\n",
            " ['admission', 'canteen', 'college intake', 'committee', 'computerhod', 'course', 'creator', 'document', 'event', 'extchod', 'facilities', 'fees', 'floors', 'goodbye', 'greeting', 'hod', 'hostel', 'hours', 'infrastructure', 'ithod', 'library', 'location', 'menu', 'name', 'number', 'placement', 'principal', 'ragging', 'random', 'salutaion', 'scholarship', 'sem', 'sports', 'swear', 'syllabus', 'task', 'uniform', 'vacation'] \n",
            "\n",
            "263 unique lemmatized words\n",
            " [\"'s\", '(', ')', 'a', 'about', 'ac', 'active', 'activity', 'address', 'admision', 'admission', 'against', 'ai/ml', 'allotment', 'am', 'an', 'and', 'antiragging', 'any', 'anyone', 'are', 'as', 'asshole', 'at', 'attend', 'automobile', 'available', 'average', 'be', 'between', 'big', 'bitch', 'book', 'boy', 'branch', 'bring', 'building', 'by', 'bye', 'cafetaria', 'call', 'called', 'campus', 'can', 'canteen', 'capacity', 'case', 'casuals', 'ce', 'chatting', 'chemical', 'civil', 'code', 'college', 'come', 'committe', 'committee', 'comp', 'company', 'computer', 'conducted', 'contact', 'course', 'create', 'created', 'creator', 'cya', 'date', 'day', 'designed', 'detail', 'developer', 'different', 'distance', 'do', 'document', 'doe', 'done', 'dress', 'dresscode', 'dumb', 'during', 'each', 'eat', 'end', 'engineering', 'event', 'exam', 'extc', 'facility', 'far', 'fee', 'first', 'floor', 'food', 'for', 'fourth', 'from', 'fuck', 'fucker', 'function', 'game', 'get', 'girl', 'give', 'go', 'good', 'goodbye', 'got', 'gtg', 'guy', 'have', 'held', 'hell', 'hello', 'help', 'here', 'heyy', 'hi', 'history', 'hod', 'holiday', 'hostel', 'hour', 'how', 'i', 'idiot', 'in', 'incident', 'info', 'information', 'infrastructure', 'intake', 'is', 'it', 'job', 'junior', 'k', 'later', 'leaving', 'lecture', 'library', 'list', 'located', 'location', 'long', 'love', 'made', 'many', 'marry', 'max', 'maximum', 'me', 'mechanical', 'menu', 'more', 'much', 'my', 'name', 'need', 'needed', 'next', 'nice', 'no', 'non-ac', 'number', 'of', 'offer', 'offered', 'office', 'ok', 'okay', 'okie', 'okk', 'on', 'open', 'operation', 'organised', 'package', 'per', 'phone', 'placement', 'please', 'practice', 'principal', 'process', 'provide', 'provided', 'ragging', 'reach', 'recruitment', 'required', 'room', 'saturday', 'schedule', 'scholarship', 'seat', 'second', 'see', 'sem', 'semester', 'servive', 'should', 'shut', 'size', 'something', 'sport', 'start', 'student', 'stundent', 'stupid', 'syllabus', 'take', 'taken', 'taking', 'talk', 'tall', 'technology', 'telephone', 'tell', 'thank', 'thanks', 'the', 'there', 'these', 'thing', 'third', 'this', 'time', 'timetable', 'timing', 'to', 'ttyl', 'u', 'uni', 'uniform', 'univrsity', 'up', 'use', 'vacation', 'variety', 'visit', 'we', 'wear', 'well', 'what', 'whats', 'whatsup', 'whatv', 'when', 'where', 'wheres', 'which', 'who', 'whom', 'why', 'will', 'work', 'working', 'ya', 'year', 'you', 'your'] \n",
            "\n"
          ]
        }
      ],
      "source": [
        "# lemmatize, lower each word and remove duplicates\n",
        "words = [lemmatizer.lemmatize(w.lower()) for w in words if w not in ignore_words]\n",
        "words = sorted(list(set(words)))\n",
        "# sort classes\n",
        "classes = sorted(list(set(classes)))\n",
        "# documents = combination between patterns and intents\n",
        "print (len(documents), \"documents\\n\", documents, \"\\n\")\n",
        "# classes = intents[tag]\n",
        "print (len(classes), \"classes\\n\", classes, \"\\n\")\n",
        "# words = all words, vocabulary\n",
        "print (len(words), \"unique lemmatized words\\n\", words, \"\\n\")\n",
        "pickle.dump(words,open('words.pkl','wb'))\n",
        "pickle.dump(classes,open('classes.pkl','wb'))"
      ]
    },
    {
      "cell_type": "code",
      "execution_count": null,
      "metadata": {
        "id": "uHLxvY7htiY8"
      },
      "outputs": [],
      "source": [
        "from tensorflow.python.framework import ops\n",
        "ops.reset_default_graph()"
      ]
    },
    {
      "cell_type": "code",
      "execution_count": null,
      "metadata": {
        "colab": {
          "background_save": true,
          "base_uri": "https://localhost:8080/"
        },
        "id": "Hj04S4CntUuU",
        "outputId": "4fc002cf-0503-4045-deea-4b0b81ae2537"
      },
      "outputs": [
        {
          "name": "stdout",
          "output_type": "stream",
          "text": [
            "Training data created\n"
          ]
        }
      ],
      "source": [
        "# create our training data\n",
        "training = []\n",
        "# create an empty array for our output\n",
        "output_empty = [0] * len(classes)\n",
        "# training set, bag of words for each sentence\n",
        "for doc in documents:\n",
        "    # initialize our bag of words\n",
        "    bag = []\n",
        "    # list of tokenized words\n",
        "    pattern_words = doc[0]\n",
        "    # convert pattern_words in lower case\n",
        "    pattern_words = [lemmatizer.lemmatize(word.lower()) for word in pattern_words]\n",
        "    # create bag of words array,if word match found in current pattern then put 1 otherwise 0.[row * colm(263)]\n",
        "    for w in words:\n",
        "        bag.append(1) if w in pattern_words else bag.append(0)\n",
        "\n",
        "    # in output array 0 value for each tag ang 1 value for matched tag.[row * colm(8)]\n",
        "    output_row = list(output_empty)\n",
        "    output_row[classes.index(doc[1])] = 1\n",
        "\n",
        "    training.append([bag, output_row])\n",
        "# shuffle training and turn into np.array\n",
        "random.shuffle(training)\n",
        "# training = np.array(training)\n",
        "training = np.array(training, dtype=object)\n",
        "# create train and test. X - patterns(words), Y - intents(tags)\n",
        "train_x = list(training[:,0])\n",
        "train_y = list(training[:,1])\n",
        "print(\"Training data created\")"
      ]
    },
    {
      "cell_type": "code",
      "execution_count": null,
      "metadata": {
        "colab": {
          "base_uri": "https://localhost:8080/"
        },
        "id": "2XoN4qvOOsBW",
        "outputId": "a85feb9f-818d-469e-9fc9-8fa5bbc8f9eb"
      },
      "outputs": [
        {
          "name": "stdout",
          "output_type": "stream",
          "text": [
            "First layer: [[-0.03914514  0.01960775 -0.01351316 ...  0.08257379 -0.11783099\n",
            "   0.10342106]\n",
            " [ 0.08372954 -0.00675981  0.09889872 ...  0.05178368 -0.08325848\n",
            "   0.04479459]\n",
            " [-0.04507567  0.08319487 -0.09756494 ...  0.01987322  0.11942106\n",
            "  -0.0906224 ]\n",
            " ...\n",
            " [-0.04436496 -0.08818612  0.09539981 ...  0.09945378  0.04947858\n",
            "  -0.10198376]\n",
            " [ 0.03718466  0.00137742 -0.03342911 ... -0.08225548 -0.09601095\n",
            "   0.04143722]\n",
            " [-0.06697328 -0.01448377  0.11622415 ...  0.06958261 -0.08467856\n",
            "   0.11154534]]\n"
          ]
        }
      ],
      "source": [
        "# Create model - 3 layers. First layer 128 neurons, second layer 64 neurons and 3rd output layer contains number of neurons\n",
        "# equal to number of intents to predict output intent with softmax\n",
        "model = Sequential()\n",
        "model.add(Dense(128, input_shape=(len(train_x[0]),), activation='relu'))\n",
        "model.add(Dropout(0.5))\n",
        "model.add(Dense(64, activation='relu'))\n",
        "model.add(Dropout(0.5))\n",
        "model.add(Dense(len(train_y[0]), activation='softmax'))\n",
        "print(\"First layer:\",model.layers[0].get_weights()[0])"
      ]
    },
    {
      "cell_type": "code",
      "execution_count": null,
      "metadata": {
        "id": "IsP-znmwuThx"
      },
      "outputs": [],
      "source": [
        "# Compile model. Stochastic gradient descent with Nesterov accelerated gradient gives good results for this model\n",
        "# sgd = SGD(lr=0.01, decay=1e-6, momentum=0.9, nesterov=True)\n",
        "model.compile(loss='categorical_crossentropy', optimizer='adam', metrics=['accuracy'])"
      ]
    },
    {
      "cell_type": "code",
      "execution_count": null,
      "metadata": {
        "colab": {
          "base_uri": "https://localhost:8080/"
        },
        "id": "UD5MAy1wPnxJ",
        "outputId": "541344ea-c52f-4578-bf2f-a3f659ced808"
      },
      "outputs": [
        {
          "name": "stdout",
          "output_type": "stream",
          "text": [
            "Epoch 1/200\n",
            "81/81 [==============================] - 1s 2ms/step - loss: 3.6060 - accuracy: 0.0568\n",
            "Epoch 2/200\n",
            "81/81 [==============================] - 0s 2ms/step - loss: 3.4657 - accuracy: 0.1728\n",
            "Epoch 3/200\n",
            "81/81 [==============================] - 0s 2ms/step - loss: 3.2629 - accuracy: 0.1901\n",
            "Epoch 4/200\n",
            "81/81 [==============================] - 0s 2ms/step - loss: 3.0280 - accuracy: 0.2420\n",
            "Epoch 5/200\n",
            "81/81 [==============================] - 0s 2ms/step - loss: 2.7239 - accuracy: 0.3185\n",
            "Epoch 6/200\n",
            "81/81 [==============================] - 0s 2ms/step - loss: 2.4875 - accuracy: 0.3679\n",
            "Epoch 7/200\n",
            "81/81 [==============================] - 0s 2ms/step - loss: 2.2689 - accuracy: 0.4222\n",
            "Epoch 8/200\n",
            "81/81 [==============================] - 0s 2ms/step - loss: 2.0570 - accuracy: 0.4519\n",
            "Epoch 9/200\n",
            "81/81 [==============================] - 0s 2ms/step - loss: 1.8619 - accuracy: 0.5136\n",
            "Epoch 10/200\n",
            "81/81 [==============================] - 0s 2ms/step - loss: 1.7105 - accuracy: 0.5852\n",
            "Epoch 11/200\n",
            "81/81 [==============================] - 0s 2ms/step - loss: 1.5573 - accuracy: 0.5951\n",
            "Epoch 12/200\n",
            "81/81 [==============================] - 0s 2ms/step - loss: 1.3975 - accuracy: 0.6420\n",
            "Epoch 13/200\n",
            "81/81 [==============================] - 0s 2ms/step - loss: 1.2743 - accuracy: 0.6963\n",
            "Epoch 14/200\n",
            "81/81 [==============================] - 0s 2ms/step - loss: 1.1449 - accuracy: 0.7259\n",
            "Epoch 15/200\n",
            "81/81 [==============================] - 0s 3ms/step - loss: 1.0352 - accuracy: 0.7407\n",
            "Epoch 16/200\n",
            "81/81 [==============================] - 0s 4ms/step - loss: 1.0011 - accuracy: 0.7580\n",
            "Epoch 17/200\n",
            "81/81 [==============================] - 0s 4ms/step - loss: 0.8869 - accuracy: 0.7827\n",
            "Epoch 18/200\n",
            "81/81 [==============================] - 0s 4ms/step - loss: 0.9239 - accuracy: 0.7605\n",
            "Epoch 19/200\n",
            "81/81 [==============================] - 0s 3ms/step - loss: 0.7624 - accuracy: 0.7975\n",
            "Epoch 20/200\n",
            "81/81 [==============================] - 0s 3ms/step - loss: 0.7271 - accuracy: 0.8370\n",
            "Epoch 21/200\n",
            "81/81 [==============================] - 0s 3ms/step - loss: 0.7110 - accuracy: 0.8099\n",
            "Epoch 22/200\n",
            "81/81 [==============================] - 0s 3ms/step - loss: 0.6641 - accuracy: 0.8444\n",
            "Epoch 23/200\n",
            "81/81 [==============================] - 0s 3ms/step - loss: 0.6443 - accuracy: 0.8543\n",
            "Epoch 24/200\n",
            "81/81 [==============================] - 0s 3ms/step - loss: 0.5964 - accuracy: 0.8370\n",
            "Epoch 25/200\n",
            "81/81 [==============================] - 0s 3ms/step - loss: 0.5450 - accuracy: 0.8568\n",
            "Epoch 26/200\n",
            "81/81 [==============================] - 0s 3ms/step - loss: 0.4849 - accuracy: 0.8691\n",
            "Epoch 27/200\n",
            "81/81 [==============================] - 0s 2ms/step - loss: 0.5141 - accuracy: 0.8765\n",
            "Epoch 28/200\n",
            "81/81 [==============================] - 0s 2ms/step - loss: 0.4875 - accuracy: 0.8864\n",
            "Epoch 29/200\n",
            "81/81 [==============================] - 0s 2ms/step - loss: 0.4940 - accuracy: 0.8667\n",
            "Epoch 30/200\n",
            "81/81 [==============================] - 0s 2ms/step - loss: 0.3899 - accuracy: 0.9062\n",
            "Epoch 31/200\n",
            "81/81 [==============================] - 0s 2ms/step - loss: 0.3745 - accuracy: 0.9111\n",
            "Epoch 32/200\n",
            "81/81 [==============================] - 0s 2ms/step - loss: 0.4012 - accuracy: 0.8963\n",
            "Epoch 33/200\n",
            "81/81 [==============================] - 0s 2ms/step - loss: 0.4038 - accuracy: 0.8790\n",
            "Epoch 34/200\n",
            "81/81 [==============================] - 0s 2ms/step - loss: 0.3822 - accuracy: 0.9062\n",
            "Epoch 35/200\n",
            "81/81 [==============================] - 0s 2ms/step - loss: 0.3405 - accuracy: 0.9086\n",
            "Epoch 36/200\n",
            "81/81 [==============================] - 0s 2ms/step - loss: 0.3258 - accuracy: 0.9136\n",
            "Epoch 37/200\n",
            "81/81 [==============================] - 0s 2ms/step - loss: 0.3136 - accuracy: 0.9210\n",
            "Epoch 38/200\n",
            "81/81 [==============================] - 0s 2ms/step - loss: 0.3675 - accuracy: 0.9086\n",
            "Epoch 39/200\n",
            "81/81 [==============================] - 0s 2ms/step - loss: 0.3045 - accuracy: 0.9235\n",
            "Epoch 40/200\n",
            "81/81 [==============================] - 0s 2ms/step - loss: 0.3111 - accuracy: 0.9210\n",
            "Epoch 41/200\n",
            "81/81 [==============================] - 0s 2ms/step - loss: 0.2701 - accuracy: 0.9432\n",
            "Epoch 42/200\n",
            "81/81 [==============================] - 0s 2ms/step - loss: 0.3004 - accuracy: 0.9037\n",
            "Epoch 43/200\n",
            "81/81 [==============================] - 0s 2ms/step - loss: 0.2914 - accuracy: 0.9259\n",
            "Epoch 44/200\n",
            "81/81 [==============================] - 0s 2ms/step - loss: 0.2687 - accuracy: 0.9136\n",
            "Epoch 45/200\n",
            "81/81 [==============================] - 0s 2ms/step - loss: 0.2700 - accuracy: 0.9136\n",
            "Epoch 46/200\n",
            "81/81 [==============================] - 0s 2ms/step - loss: 0.2618 - accuracy: 0.9185\n",
            "Epoch 47/200\n",
            "81/81 [==============================] - 0s 2ms/step - loss: 0.2662 - accuracy: 0.9136\n",
            "Epoch 48/200\n",
            "81/81 [==============================] - 0s 2ms/step - loss: 0.2359 - accuracy: 0.9457\n",
            "Epoch 49/200\n",
            "81/81 [==============================] - 0s 2ms/step - loss: 0.2851 - accuracy: 0.9136\n",
            "Epoch 50/200\n",
            "81/81 [==============================] - 0s 2ms/step - loss: 0.2229 - accuracy: 0.9407\n",
            "Epoch 51/200\n",
            "81/81 [==============================] - 0s 2ms/step - loss: 0.1888 - accuracy: 0.9556\n",
            "Epoch 52/200\n",
            "81/81 [==============================] - 0s 2ms/step - loss: 0.2186 - accuracy: 0.9333\n",
            "Epoch 53/200\n",
            "81/81 [==============================] - 0s 2ms/step - loss: 0.2119 - accuracy: 0.9457\n",
            "Epoch 54/200\n",
            "81/81 [==============================] - 0s 2ms/step - loss: 0.2626 - accuracy: 0.9309\n",
            "Epoch 55/200\n",
            "81/81 [==============================] - 0s 3ms/step - loss: 0.2338 - accuracy: 0.9383\n",
            "Epoch 56/200\n",
            "81/81 [==============================] - 0s 3ms/step - loss: 0.1636 - accuracy: 0.9556\n",
            "Epoch 57/200\n",
            "81/81 [==============================] - 0s 3ms/step - loss: 0.2070 - accuracy: 0.9383\n",
            "Epoch 58/200\n",
            "81/81 [==============================] - 0s 3ms/step - loss: 0.1920 - accuracy: 0.9481\n",
            "Epoch 59/200\n",
            "81/81 [==============================] - 0s 3ms/step - loss: 0.2079 - accuracy: 0.9284\n",
            "Epoch 60/200\n",
            "81/81 [==============================] - 0s 2ms/step - loss: 0.2223 - accuracy: 0.9333\n",
            "Epoch 61/200\n",
            "81/81 [==============================] - 0s 2ms/step - loss: 0.1542 - accuracy: 0.9704\n",
            "Epoch 62/200\n",
            "81/81 [==============================] - 0s 3ms/step - loss: 0.1817 - accuracy: 0.9407\n",
            "Epoch 63/200\n",
            "81/81 [==============================] - 0s 3ms/step - loss: 0.1683 - accuracy: 0.9432\n",
            "Epoch 64/200\n",
            "81/81 [==============================] - 0s 2ms/step - loss: 0.1599 - accuracy: 0.9531\n",
            "Epoch 65/200\n",
            "81/81 [==============================] - 0s 2ms/step - loss: 0.1566 - accuracy: 0.9556\n",
            "Epoch 66/200\n",
            "81/81 [==============================] - 0s 2ms/step - loss: 0.1866 - accuracy: 0.9358\n",
            "Epoch 67/200\n",
            "81/81 [==============================] - 0s 2ms/step - loss: 0.1348 - accuracy: 0.9630\n",
            "Epoch 68/200\n",
            "81/81 [==============================] - 0s 3ms/step - loss: 0.1510 - accuracy: 0.9605\n",
            "Epoch 69/200\n",
            "81/81 [==============================] - 0s 3ms/step - loss: 0.1657 - accuracy: 0.9481\n",
            "Epoch 70/200\n",
            "81/81 [==============================] - 0s 2ms/step - loss: 0.1598 - accuracy: 0.9580\n",
            "Epoch 71/200\n",
            "81/81 [==============================] - 0s 3ms/step - loss: 0.1621 - accuracy: 0.9407\n",
            "Epoch 72/200\n",
            "81/81 [==============================] - 0s 3ms/step - loss: 0.1972 - accuracy: 0.9358\n",
            "Epoch 73/200\n",
            "81/81 [==============================] - 0s 2ms/step - loss: 0.1431 - accuracy: 0.9630\n",
            "Epoch 74/200\n",
            "81/81 [==============================] - 0s 2ms/step - loss: 0.1424 - accuracy: 0.9630\n",
            "Epoch 75/200\n",
            "81/81 [==============================] - 0s 2ms/step - loss: 0.1585 - accuracy: 0.9506\n",
            "Epoch 76/200\n",
            "81/81 [==============================] - 0s 2ms/step - loss: 0.1597 - accuracy: 0.9432\n",
            "Epoch 77/200\n",
            "81/81 [==============================] - 0s 2ms/step - loss: 0.1488 - accuracy: 0.9580\n",
            "Epoch 78/200\n",
            "81/81 [==============================] - 0s 3ms/step - loss: 0.1661 - accuracy: 0.9556\n",
            "Epoch 79/200\n",
            "81/81 [==============================] - 0s 5ms/step - loss: 0.1683 - accuracy: 0.9432\n",
            "Epoch 80/200\n",
            "81/81 [==============================] - 0s 4ms/step - loss: 0.1329 - accuracy: 0.9654\n",
            "Epoch 81/200\n",
            "81/81 [==============================] - 0s 4ms/step - loss: 0.1472 - accuracy: 0.9506\n",
            "Epoch 82/200\n",
            "81/81 [==============================] - 0s 4ms/step - loss: 0.1422 - accuracy: 0.9506\n",
            "Epoch 83/200\n",
            "81/81 [==============================] - 0s 4ms/step - loss: 0.1304 - accuracy: 0.9704\n",
            "Epoch 84/200\n",
            "81/81 [==============================] - 0s 4ms/step - loss: 0.1407 - accuracy: 0.9580\n",
            "Epoch 85/200\n",
            "81/81 [==============================] - 0s 4ms/step - loss: 0.1288 - accuracy: 0.9630\n",
            "Epoch 86/200\n",
            "81/81 [==============================] - 0s 5ms/step - loss: 0.1699 - accuracy: 0.9531\n",
            "Epoch 87/200\n",
            "81/81 [==============================] - 0s 4ms/step - loss: 0.1151 - accuracy: 0.9728\n",
            "Epoch 88/200\n",
            "81/81 [==============================] - 0s 2ms/step - loss: 0.1145 - accuracy: 0.9654\n",
            "Epoch 89/200\n",
            "81/81 [==============================] - 0s 2ms/step - loss: 0.1099 - accuracy: 0.9679\n",
            "Epoch 90/200\n",
            "81/81 [==============================] - 0s 2ms/step - loss: 0.1246 - accuracy: 0.9580\n",
            "Epoch 91/200\n",
            "81/81 [==============================] - 0s 2ms/step - loss: 0.1270 - accuracy: 0.9531\n",
            "Epoch 92/200\n",
            "81/81 [==============================] - 0s 2ms/step - loss: 0.1041 - accuracy: 0.9605\n",
            "Epoch 93/200\n",
            "81/81 [==============================] - 0s 2ms/step - loss: 0.1419 - accuracy: 0.9630\n",
            "Epoch 94/200\n",
            "81/81 [==============================] - 0s 3ms/step - loss: 0.1226 - accuracy: 0.9630\n",
            "Epoch 95/200\n",
            "81/81 [==============================] - 0s 3ms/step - loss: 0.1041 - accuracy: 0.9704\n",
            "Epoch 96/200\n",
            "81/81 [==============================] - 0s 2ms/step - loss: 0.1305 - accuracy: 0.9506\n",
            "Epoch 97/200\n",
            "81/81 [==============================] - 0s 2ms/step - loss: 0.1535 - accuracy: 0.9654\n",
            "Epoch 98/200\n",
            "81/81 [==============================] - 0s 2ms/step - loss: 0.0916 - accuracy: 0.9728\n",
            "Epoch 99/200\n",
            "81/81 [==============================] - 0s 2ms/step - loss: 0.1179 - accuracy: 0.9580\n",
            "Epoch 100/200\n",
            "81/81 [==============================] - 0s 2ms/step - loss: 0.1296 - accuracy: 0.9679\n",
            "Epoch 101/200\n",
            "81/81 [==============================] - 0s 2ms/step - loss: 0.1413 - accuracy: 0.9630\n",
            "Epoch 102/200\n",
            "81/81 [==============================] - 0s 2ms/step - loss: 0.1240 - accuracy: 0.9605\n",
            "Epoch 103/200\n",
            "81/81 [==============================] - 0s 2ms/step - loss: 0.1317 - accuracy: 0.9531\n",
            "Epoch 104/200\n",
            "81/81 [==============================] - 0s 2ms/step - loss: 0.0823 - accuracy: 0.9802\n",
            "Epoch 105/200\n",
            "81/81 [==============================] - 0s 2ms/step - loss: 0.1282 - accuracy: 0.9580\n",
            "Epoch 106/200\n",
            "81/81 [==============================] - 0s 2ms/step - loss: 0.1091 - accuracy: 0.9704\n",
            "Epoch 107/200\n",
            "81/81 [==============================] - 0s 2ms/step - loss: 0.0950 - accuracy: 0.9728\n",
            "Epoch 108/200\n",
            "81/81 [==============================] - 0s 2ms/step - loss: 0.0985 - accuracy: 0.9679\n",
            "Epoch 109/200\n",
            "81/81 [==============================] - 0s 2ms/step - loss: 0.1204 - accuracy: 0.9630\n",
            "Epoch 110/200\n",
            "81/81 [==============================] - 0s 3ms/step - loss: 0.1031 - accuracy: 0.9704\n",
            "Epoch 111/200\n",
            "81/81 [==============================] - 0s 2ms/step - loss: 0.0937 - accuracy: 0.9753\n",
            "Epoch 112/200\n",
            "81/81 [==============================] - 0s 3ms/step - loss: 0.1058 - accuracy: 0.9630\n",
            "Epoch 113/200\n",
            "81/81 [==============================] - 0s 2ms/step - loss: 0.1154 - accuracy: 0.9654\n",
            "Epoch 114/200\n",
            "81/81 [==============================] - 0s 2ms/step - loss: 0.0828 - accuracy: 0.9753\n",
            "Epoch 115/200\n",
            "81/81 [==============================] - 0s 3ms/step - loss: 0.1301 - accuracy: 0.9605\n",
            "Epoch 116/200\n",
            "81/81 [==============================] - 0s 3ms/step - loss: 0.1132 - accuracy: 0.9580\n",
            "Epoch 117/200\n",
            "81/81 [==============================] - 0s 3ms/step - loss: 0.0657 - accuracy: 0.9753\n",
            "Epoch 118/200\n",
            "81/81 [==============================] - 0s 2ms/step - loss: 0.0930 - accuracy: 0.9728\n",
            "Epoch 119/200\n",
            "81/81 [==============================] - 0s 2ms/step - loss: 0.0979 - accuracy: 0.9704\n",
            "Epoch 120/200\n",
            "81/81 [==============================] - 0s 3ms/step - loss: 0.0826 - accuracy: 0.9778\n",
            "Epoch 121/200\n",
            "81/81 [==============================] - 0s 3ms/step - loss: 0.0983 - accuracy: 0.9753\n",
            "Epoch 122/200\n",
            "81/81 [==============================] - 0s 2ms/step - loss: 0.0893 - accuracy: 0.9728\n",
            "Epoch 123/200\n",
            "81/81 [==============================] - 0s 2ms/step - loss: 0.0903 - accuracy: 0.9679\n",
            "Epoch 124/200\n",
            "81/81 [==============================] - 0s 2ms/step - loss: 0.0905 - accuracy: 0.9753\n",
            "Epoch 125/200\n",
            "81/81 [==============================] - 0s 3ms/step - loss: 0.1161 - accuracy: 0.9506\n",
            "Epoch 126/200\n",
            "81/81 [==============================] - 0s 3ms/step - loss: 0.1146 - accuracy: 0.9654\n",
            "Epoch 127/200\n",
            "81/81 [==============================] - 0s 2ms/step - loss: 0.0642 - accuracy: 0.9852\n",
            "Epoch 128/200\n",
            "81/81 [==============================] - 0s 2ms/step - loss: 0.0734 - accuracy: 0.9728\n",
            "Epoch 129/200\n",
            "81/81 [==============================] - 0s 2ms/step - loss: 0.1128 - accuracy: 0.9630\n",
            "Epoch 130/200\n",
            "81/81 [==============================] - 0s 3ms/step - loss: 0.0964 - accuracy: 0.9679\n",
            "Epoch 131/200\n",
            "81/81 [==============================] - 0s 2ms/step - loss: 0.0836 - accuracy: 0.9753\n",
            "Epoch 132/200\n",
            "81/81 [==============================] - 0s 2ms/step - loss: 0.0656 - accuracy: 0.9877\n",
            "Epoch 133/200\n",
            "81/81 [==============================] - 0s 2ms/step - loss: 0.0995 - accuracy: 0.9630\n",
            "Epoch 134/200\n",
            "81/81 [==============================] - 0s 2ms/step - loss: 0.1269 - accuracy: 0.9580\n",
            "Epoch 135/200\n",
            "81/81 [==============================] - 0s 3ms/step - loss: 0.0819 - accuracy: 0.9630\n",
            "Epoch 136/200\n",
            "81/81 [==============================] - 0s 3ms/step - loss: 0.0936 - accuracy: 0.9728\n",
            "Epoch 137/200\n",
            "81/81 [==============================] - 0s 4ms/step - loss: 0.0824 - accuracy: 0.9654\n",
            "Epoch 138/200\n",
            "81/81 [==============================] - 0s 5ms/step - loss: 0.0719 - accuracy: 0.9753\n",
            "Epoch 139/200\n",
            "81/81 [==============================] - 0s 4ms/step - loss: 0.0636 - accuracy: 0.9778\n",
            "Epoch 140/200\n",
            "81/81 [==============================] - 0s 4ms/step - loss: 0.0817 - accuracy: 0.9728\n",
            "Epoch 141/200\n",
            "81/81 [==============================] - 0s 4ms/step - loss: 0.0943 - accuracy: 0.9654\n",
            "Epoch 142/200\n",
            "81/81 [==============================] - 0s 5ms/step - loss: 0.1009 - accuracy: 0.9704\n",
            "Epoch 143/200\n",
            "81/81 [==============================] - 0s 4ms/step - loss: 0.0715 - accuracy: 0.9778\n",
            "Epoch 144/200\n",
            "81/81 [==============================] - 0s 5ms/step - loss: 0.0660 - accuracy: 0.9802\n",
            "Epoch 145/200\n",
            "81/81 [==============================] - 0s 3ms/step - loss: 0.0989 - accuracy: 0.9679\n",
            "Epoch 146/200\n",
            "81/81 [==============================] - 0s 2ms/step - loss: 0.1073 - accuracy: 0.9580\n",
            "Epoch 147/200\n",
            "81/81 [==============================] - 0s 2ms/step - loss: 0.0665 - accuracy: 0.9802\n",
            "Epoch 148/200\n",
            "81/81 [==============================] - 0s 2ms/step - loss: 0.0524 - accuracy: 0.9926\n",
            "Epoch 149/200\n",
            "81/81 [==============================] - 0s 2ms/step - loss: 0.0627 - accuracy: 0.9852\n",
            "Epoch 150/200\n",
            "81/81 [==============================] - 0s 2ms/step - loss: 0.0698 - accuracy: 0.9753\n",
            "Epoch 151/200\n",
            "81/81 [==============================] - 0s 2ms/step - loss: 0.0649 - accuracy: 0.9753\n",
            "Epoch 152/200\n",
            "81/81 [==============================] - 0s 2ms/step - loss: 0.0698 - accuracy: 0.9778\n",
            "Epoch 153/200\n",
            "81/81 [==============================] - 0s 2ms/step - loss: 0.0913 - accuracy: 0.9654\n",
            "Epoch 154/200\n",
            "81/81 [==============================] - 0s 3ms/step - loss: 0.0766 - accuracy: 0.9753\n",
            "Epoch 155/200\n",
            "81/81 [==============================] - 0s 3ms/step - loss: 0.0747 - accuracy: 0.9753\n",
            "Epoch 156/200\n",
            "81/81 [==============================] - 0s 2ms/step - loss: 0.1009 - accuracy: 0.9630\n",
            "Epoch 157/200\n",
            "81/81 [==============================] - 0s 2ms/step - loss: 0.1056 - accuracy: 0.9704\n",
            "Epoch 158/200\n",
            "81/81 [==============================] - 0s 3ms/step - loss: 0.1029 - accuracy: 0.9654\n",
            "Epoch 159/200\n",
            "81/81 [==============================] - 0s 3ms/step - loss: 0.0812 - accuracy: 0.9778\n",
            "Epoch 160/200\n",
            "81/81 [==============================] - 0s 3ms/step - loss: 0.0623 - accuracy: 0.9778\n",
            "Epoch 161/200\n",
            "81/81 [==============================] - 0s 2ms/step - loss: 0.0642 - accuracy: 0.9778\n",
            "Epoch 162/200\n",
            "81/81 [==============================] - 0s 3ms/step - loss: 0.0631 - accuracy: 0.9753\n",
            "Epoch 163/200\n",
            "81/81 [==============================] - 0s 3ms/step - loss: 0.0858 - accuracy: 0.9753\n",
            "Epoch 164/200\n",
            "81/81 [==============================] - 0s 3ms/step - loss: 0.0551 - accuracy: 0.9802\n",
            "Epoch 165/200\n",
            "81/81 [==============================] - 0s 2ms/step - loss: 0.0722 - accuracy: 0.9778\n",
            "Epoch 166/200\n",
            "81/81 [==============================] - 0s 2ms/step - loss: 0.1010 - accuracy: 0.9605\n",
            "Epoch 167/200\n",
            "81/81 [==============================] - 0s 2ms/step - loss: 0.0610 - accuracy: 0.9877\n",
            "Epoch 168/200\n",
            "81/81 [==============================] - 0s 2ms/step - loss: 0.0541 - accuracy: 0.9901\n",
            "Epoch 169/200\n",
            "81/81 [==============================] - 0s 2ms/step - loss: 0.0518 - accuracy: 0.9852\n",
            "Epoch 170/200\n",
            "81/81 [==============================] - 0s 2ms/step - loss: 0.0829 - accuracy: 0.9753\n",
            "Epoch 171/200\n",
            "81/81 [==============================] - 0s 2ms/step - loss: 0.0689 - accuracy: 0.9778\n",
            "Epoch 172/200\n",
            "81/81 [==============================] - 0s 2ms/step - loss: 0.0800 - accuracy: 0.9704\n",
            "Epoch 173/200\n",
            "81/81 [==============================] - 0s 2ms/step - loss: 0.0739 - accuracy: 0.9728\n",
            "Epoch 174/200\n",
            "81/81 [==============================] - 0s 2ms/step - loss: 0.0608 - accuracy: 0.9728\n",
            "Epoch 175/200\n",
            "81/81 [==============================] - 0s 2ms/step - loss: 0.0791 - accuracy: 0.9802\n",
            "Epoch 176/200\n",
            "81/81 [==============================] - 0s 2ms/step - loss: 0.0804 - accuracy: 0.9679\n",
            "Epoch 177/200\n",
            "81/81 [==============================] - 0s 2ms/step - loss: 0.0799 - accuracy: 0.9679\n",
            "Epoch 178/200\n",
            "81/81 [==============================] - 0s 3ms/step - loss: 0.0552 - accuracy: 0.9827\n",
            "Epoch 179/200\n",
            "81/81 [==============================] - 0s 2ms/step - loss: 0.0717 - accuracy: 0.9778\n",
            "Epoch 180/200\n",
            "81/81 [==============================] - 0s 2ms/step - loss: 0.0659 - accuracy: 0.9802\n",
            "Epoch 181/200\n",
            "81/81 [==============================] - 0s 2ms/step - loss: 0.0600 - accuracy: 0.9802\n",
            "Epoch 182/200\n",
            "81/81 [==============================] - 0s 2ms/step - loss: 0.0663 - accuracy: 0.9679\n",
            "Epoch 183/200\n",
            "81/81 [==============================] - 0s 2ms/step - loss: 0.0724 - accuracy: 0.9704\n",
            "Epoch 184/200\n",
            "81/81 [==============================] - 0s 2ms/step - loss: 0.0849 - accuracy: 0.9679\n",
            "Epoch 185/200\n",
            "81/81 [==============================] - 0s 3ms/step - loss: 0.0881 - accuracy: 0.9753\n",
            "Epoch 186/200\n",
            "81/81 [==============================] - 0s 2ms/step - loss: 0.0578 - accuracy: 0.9827\n",
            "Epoch 187/200\n",
            "81/81 [==============================] - 0s 3ms/step - loss: 0.0603 - accuracy: 0.9753\n",
            "Epoch 188/200\n",
            "81/81 [==============================] - 0s 2ms/step - loss: 0.0616 - accuracy: 0.9827\n",
            "Epoch 189/200\n",
            "81/81 [==============================] - 0s 3ms/step - loss: 0.0787 - accuracy: 0.9704\n",
            "Epoch 190/200\n",
            "81/81 [==============================] - 0s 3ms/step - loss: 0.0591 - accuracy: 0.9802\n",
            "Epoch 191/200\n",
            "81/81 [==============================] - 0s 2ms/step - loss: 0.0557 - accuracy: 0.9778\n",
            "Epoch 192/200\n",
            "81/81 [==============================] - 0s 2ms/step - loss: 0.0494 - accuracy: 0.9852\n",
            "Epoch 193/200\n",
            "81/81 [==============================] - 0s 2ms/step - loss: 0.0901 - accuracy: 0.9704\n",
            "Epoch 194/200\n",
            "81/81 [==============================] - 0s 3ms/step - loss: 0.0858 - accuracy: 0.9778\n",
            "Epoch 195/200\n",
            "81/81 [==============================] - 0s 3ms/step - loss: 0.0658 - accuracy: 0.9778\n",
            "Epoch 196/200\n",
            "81/81 [==============================] - 0s 4ms/step - loss: 0.0468 - accuracy: 0.9877\n",
            "Epoch 197/200\n",
            "81/81 [==============================] - 0s 4ms/step - loss: 0.0896 - accuracy: 0.9679\n",
            "Epoch 198/200\n",
            "81/81 [==============================] - 0s 5ms/step - loss: 0.0782 - accuracy: 0.9704\n",
            "Epoch 199/200\n",
            "81/81 [==============================] - 0s 3ms/step - loss: 0.0525 - accuracy: 0.9753\n",
            "Epoch 200/200\n",
            "81/81 [==============================] - 0s 3ms/step - loss: 0.0569 - accuracy: 0.9778\n",
            "model created\n"
          ]
        }
      ],
      "source": [
        "#fitting and saving the model\n",
        "hist = model.fit(np.array(train_x), np.array(train_y), epochs=200, batch_size=5, verbose=1)\n",
        "model.save('chatbot_model.h5', hist)\n",
        "\n",
        "print(\"model created\")"
      ]
    },
    {
      "cell_type": "code",
      "execution_count": null,
      "metadata": {
        "id": "LqU6M1tJQC7q"
      },
      "outputs": [],
      "source": [
        "from keras.models import load_model\n",
        "\n",
        "model = load_model('chatbot_model.h5')"
      ]
    },
    {
      "cell_type": "code",
      "execution_count": null,
      "metadata": {
        "id": "4n6eE54gQQ0Z"
      },
      "outputs": [],
      "source": [
        "intents = json.loads(open('/content/intents.json').read())\n",
        "\n",
        "words = pickle.load(open('/content/classes.pkl','rb'))\n",
        "\n",
        "classes = pickle.load(open('/content/words.pkl','rb'))"
      ]
    },
    {
      "cell_type": "code",
      "execution_count": null,
      "metadata": {
        "id": "6IE_gKE0QobB"
      },
      "outputs": [],
      "source": [
        "# tokenize the pattern - split words into array\n",
        "def clean_up_sentence(sentence):\n",
        "  sentence_words = nltk.word_tokenize(sentence)\n",
        "#print(sentence_words)\n",
        "# stem each word - create short form for word\n",
        "\n",
        "  sentence_words = [lemmatizer.lemmatize(word.lower()) for word in sentence_words]\n",
        "#print(sentence_words)\n",
        "  return sentence_words"
      ]
    },
    {
      "cell_type": "code",
      "execution_count": null,
      "metadata": {
        "colab": {
          "background_save": true
        },
        "id": "ZcannGMnQ7SZ"
      },
      "outputs": [],
      "source": [
        "def bow(sentence, words, show_details=True):\n",
        "  # tokenize the pattern\n",
        "  sentence_words = clean_up_sentence(sentence)\n",
        "#print(sentence_words)\n",
        "\n",
        "# bag of words - matrix of N words, vocabulary matrix\n",
        "\n",
        "  bag = [0]*len(words)\n",
        "\n",
        "\n",
        "  for s in sentence_words:\n",
        "    for i,w in enumerate(words):\n",
        "      if w == s:\n",
        "        # assign 1 if current word is in the vocabulary position\n",
        "        bag[i] = 1\n",
        "        if show_details:\n",
        "          print (\"found in bag: %s\" % w)\n",
        "            #print (\"found in bag: %s\" % w)\n",
        "\n",
        "  return(np.array(bag))\n"
      ]
    },
    {
      "cell_type": "code",
      "execution_count": null,
      "metadata": {
        "id": "56v3PsA-R0d0"
      },
      "outputs": [],
      "source": [
        "\n",
        "def predict_class(sentence, model):\n",
        "  # filter out predictions below a threshold\n",
        "  p = bow(sentence, words,show_details=False)\n",
        "  res = model.predict(np.array([p]))[0]\n",
        "  ERROR_THRESHOLD = 0.25\n",
        "  results = [[i,r] for i,r in enumerate(res) if r>ERROR_THRESHOLD]\n",
        "  # sort by strength of probability\n",
        "  results.sort(key=lambda x: x[1], reverse=True)\n",
        "  return_list = []\n",
        "  for r in results:\n",
        "    return_list.append({\"intent\": classes[r[0]], \"probability\": str(r[1])})\n",
        "  return return_list\n",
        "\n"
      ]
    },
    {
      "cell_type": "code",
      "execution_count": null,
      "metadata": {
        "id": "3zPkZFWHR_Lc"
      },
      "outputs": [],
      "source": [
        "def getResponse(ints, intents_json):\n",
        "  tag = ints[0]['intent']\n",
        "  list_of_intents = intents_json['intents']\n",
        "  for i in list_of_intents:\n",
        "    if(i['tag']== tag):\n",
        "        result = random.choice(i['responses'])\n",
        "        break\n",
        "  return result"
      ]
    },
    {
      "cell_type": "code",
      "execution_count": null,
      "metadata": {
        "id": "ens5IGIUTEFW"
      },
      "outputs": [],
      "source": [
        "def chatbot_response(text):\n",
        "  ints = predict_class(text, model)\n",
        "  res = getResponse(ints, intents)\n",
        "  return res\n"
      ]
    },
    {
      "cell_type": "code",
      "execution_count": null,
      "metadata": {
        "colab": {
          "base_uri": "https://localhost:8080/"
        },
        "id": "GpopGpBJTVr9",
        "outputId": "24004b95-7834-409c-f734-cde695b3a0c6"
      },
      "outputs": [
        {
          "name": "stdout",
          "output_type": "stream",
          "text": [
            "Enter Message:hello\n",
            "You may need to rephrase your question.\n",
            "Enter Message:information about fee\n",
            "You may need to rephrase your question.\n",
            "Enter Message:information about fee\n",
            "You may need to rephrase your question.\n",
            "Enter Message:bye\n"
          ]
        }
      ],
      "source": [
        "start = True\n",
        "\n",
        "while start:\n",
        "  query = input('Enter Message:')\n",
        "  if query in ['quit','exit','bye']:\n",
        "    start = False\n",
        "    continue\n",
        "  try:\n",
        "    res = chatbot_response(query)\n",
        "    print(res)\n",
        "  except:\n",
        "    print('You may need to rephrase your question.')"
      ]
    },
    {
      "cell_type": "code",
      "execution_count": null,
      "metadata": {
        "colab": {
          "background_save": true
        },
        "id": "kYD9GxWMU3nQ"
      },
      "outputs": [],
      "source": [
        "from keras.models import load_model\n",
        "\n",
        "model = load_model('chatbot_model.h5')\n",
        "\n",
        "import nltk\n",
        "from nltk.stem import WordNetLemmatizer\n",
        "\n",
        "lemmatizer = WordNetLemmatizer()\n",
        "\n",
        "def clean_up_sentence(sentence):\n",
        "    sentence_words = nltk.word_tokenize(sentence)\n",
        "    sentence_words = [lemmatizer.lemmatize(word.lower()) for word in sentence_words]\n",
        "    return sentence_words"
      ]
    },
    {
      "cell_type": "code",
      "execution_count": null,
      "metadata": {
        "id": "x1sS4yK4VJV5"
      },
      "outputs": [],
      "source": [
        "import nltk\n",
        "from nltk.stem import WordNetLemmatizer\n",
        "\n",
        "lemmatizer = WordNetLemmatizer()\n",
        "\n",
        "def clean_up_sentence(sentence):\n",
        "    sentence_words = nltk.word_tokenize(sentence)\n",
        "    sentence_words = [lemmatizer.lemmatize(word.lower()) for word in sentence_words]\n",
        "    return sentence_words\n",
        "\n",
        "def bow(sentence, words, show_details=True):\n",
        "    sentence_words = clean_up_sentence(sentence)\n",
        "    print(sentence_words)\n",
        "\n",
        "    bag = [0]*len(words)\n",
        "    for s in sentence_words:\n",
        "        for i, w in enumerate(words):\n",
        "            if w == s:\n",
        "                bag[i] = 1\n",
        "                if show_details:\n",
        "                    print(\"found in bag: %s\" % w)\n",
        "\n",
        "    return np.array(bag)\n",
        "\n",
        "def predict_class(sentence, model):\n",
        "    p = bow(sentence, words, show_details=False)\n",
        "    # print(p)\n",
        "\n",
        "    res = model.predict(np.array([p]))[0]\n",
        "    prin/t(res)\n",
        "\n",
        "    ERROR_THRESHOLD = 0.25\n",
        "\n",
        "    results = [[i, r] for i, r in enumerate(res) if r > ERROR_THRESHOLD]\n",
        "    # print(results)\n",
        "\n",
        "    results.sort(key=lambda x: x[1], reverse=True)\n",
        "    # print(results)\n",
        "\n",
        "    return_list = []\n",
        "\n",
        "    for r in results:\n",
        "        return_list.append({\"intent\": classes[r[0]], \"probability\": str(r[1])})\n",
        "\n",
        "    return return_list\n",
        "    # print(return_list)\n"
      ]
    },
    {
      "cell_type": "code",
      "execution_count": null,
      "metadata": {
        "colab": {
          "background_save": true
        },
        "id": "1e_mH6JaVQ7c"
      },
      "outputs": [],
      "source": [
        "def getResponse(ints, intents_json):\n",
        "\n",
        "    tag = ints[0]['intent']\n",
        "    print(tag)\n",
        "\n",
        "    list_of_intents = intents_json['intents']\n",
        "    # print(list_of_intents)\n",
        "\n",
        "    for i in list_of_intents:\n",
        "        if(i['tag']== tag):\n",
        "            result = random.choice(i['responses'])\n",
        "            break\n",
        "    return result\n",
        "def chatbot_response(text):\n",
        "    ints = predict_class(text, model) #\n",
        "    # print(ints)\n",
        "\n",
        "    res = getResponse(ints, intents)\n",
        "    # print(res)\n",
        "    return res"
      ]
    },
    {
      "cell_type": "code",
      "execution_count": null,
      "metadata": {
        "colab": {
          "base_uri": "https://localhost:8080/"
        },
        "id": "ynBsYJLgVaGf",
        "outputId": "3cec3e55-1410-47a3-e531-1f622781dbb5"
      },
      "outputs": [
        {
          "name": "stdout",
          "output_type": "stream",
          "text": [
            "Enter Message:hello\n",
            "User:  hello\n",
            "You may need to rephrase your question.\n",
            "Enter Message:i love you\n",
            "User:  i love you\n",
            "You may need to rephrase your question.\n",
            "Enter Message:exit\n"
          ]
        }
      ],
      "source": [
        "start = True\n",
        "\n",
        "while start:\n",
        "\n",
        "    query = input('Enter Message:')\n",
        "    if query in ['quit','exit','bye']:\n",
        "        start = False\n",
        "        continue\n",
        "    try:\n",
        "        # print(\"User: \", query)\n",
        "        res = chatbot_response(query)\n",
        "        # print(res)\n",
        "\n",
        "        #print(res)\n",
        "    except:\n",
        "        print('You may need to rephrase your question.')"
      ]
    }
  ],
  "metadata": {
    "colab": {
      "provenance": [],
      "mount_file_id": "1b2O5doX2BU5H0lQ0A8-oy9cNbWQoi-Se",
      "authorship_tag": "ABX9TyPS71RyeljqqjJ5QsTuH5NN",
      "include_colab_link": true
    },
    "kernelspec": {
      "display_name": "Python 3",
      "name": "python3"
    },
    "language_info": {
      "name": "python"
    }
  },
  "nbformat": 4,
  "nbformat_minor": 0
}